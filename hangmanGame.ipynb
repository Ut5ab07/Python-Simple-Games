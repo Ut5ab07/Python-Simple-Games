{
 "cells": [
  {
   "cell_type": "code",
   "execution_count": 1,
   "id": "3238e817-4b88-4de5-a8da-6775d505f27b",
   "metadata": {},
   "outputs": [
    {
     "name": "stdout",
     "output_type": "stream",
     "text": [
      "Welcome to Hangman!\n",
      "\n",
      "     _______\n",
      "    |       |\n",
      "    |        \n",
      "    |         \n",
      "    |         \n",
      "    |      \n",
      "    |\n",
      "    \n",
      "Word:  _ _ _ _ _\n",
      "Mistakes: 0/6\n",
      "Guessed letters:  \n"
     ]
    },
    {
     "name": "stdin",
     "output_type": "stream",
     "text": [
      "Guess a letter:  a\n"
     ]
    },
    {
     "name": "stdout",
     "output_type": "stream",
     "text": [
      "Correct!\n",
      "\n",
      "     _______\n",
      "    |       |\n",
      "    |        \n",
      "    |         \n",
      "    |         \n",
      "    |      \n",
      "    |\n",
      "    \n",
      "Word:  _ a _ _ _\n",
      "Mistakes: 0/6\n",
      "Guessed letters:  a\n"
     ]
    },
    {
     "name": "stdin",
     "output_type": "stream",
     "text": [
      "Guess a letter:  e\n"
     ]
    },
    {
     "name": "stdout",
     "output_type": "stream",
     "text": [
      "Wrong guess.\n",
      "\n",
      "     _______\n",
      "    |       |\n",
      "    |       O\n",
      "    |         \n",
      "    |         \n",
      "    |      \n",
      "    |\n",
      "    \n",
      "Word:  _ a _ _ _\n",
      "Mistakes: 1/6\n",
      "Guessed letters:  a e\n"
     ]
    },
    {
     "name": "stdin",
     "output_type": "stream",
     "text": [
      "Guess a letter:  b\n"
     ]
    },
    {
     "name": "stdout",
     "output_type": "stream",
     "text": [
      "Wrong guess.\n",
      "\n",
      "     _______\n",
      "    |       |\n",
      "    |       O\n",
      "    |       | \n",
      "    |         \n",
      "    |      \n",
      "    |\n",
      "    \n",
      "Word:  _ a _ _ _\n",
      "Mistakes: 2/6\n",
      "Guessed letters:  a b e\n"
     ]
    },
    {
     "name": "stdin",
     "output_type": "stream",
     "text": [
      "Guess a letter:  p\n"
     ]
    },
    {
     "name": "stdout",
     "output_type": "stream",
     "text": [
      "Wrong guess.\n",
      "\n",
      "     _______\n",
      "    |       |\n",
      "    |       O\n",
      "    |      /| \n",
      "    |         \n",
      "    |      \n",
      "    |\n",
      "    \n",
      "Word:  _ a _ _ _\n",
      "Mistakes: 3/6\n",
      "Guessed letters:  a b e p\n"
     ]
    },
    {
     "name": "stdin",
     "output_type": "stream",
     "text": [
      "Guess a letter:  m\n"
     ]
    },
    {
     "name": "stdout",
     "output_type": "stream",
     "text": [
      "Correct!\n",
      "\n",
      "     _______\n",
      "    |       |\n",
      "    |       O\n",
      "    |      /| \n",
      "    |         \n",
      "    |      \n",
      "    |\n",
      "    \n",
      "Word:  m a _ _ _\n",
      "Mistakes: 3/6\n",
      "Guessed letters:  a b e m p\n"
     ]
    },
    {
     "name": "stdin",
     "output_type": "stream",
     "text": [
      "Guess a letter:  n\n"
     ]
    },
    {
     "name": "stdout",
     "output_type": "stream",
     "text": [
      "Correct!\n",
      "\n",
      "     _______\n",
      "    |       |\n",
      "    |       O\n",
      "    |      /| \n",
      "    |         \n",
      "    |      \n",
      "    |\n",
      "    \n",
      "Word:  m a n _ _\n",
      "Mistakes: 3/6\n",
      "Guessed letters:  a b e m n p\n"
     ]
    },
    {
     "name": "stdin",
     "output_type": "stream",
     "text": [
      "Guess a letter:  g\n"
     ]
    },
    {
     "name": "stdout",
     "output_type": "stream",
     "text": [
      "Correct!\n",
      "\n",
      "     _______\n",
      "    |       |\n",
      "    |       O\n",
      "    |      /| \n",
      "    |         \n",
      "    |      \n",
      "    |\n",
      "    \n",
      "Word:  m a n g _\n",
      "Mistakes: 3/6\n",
      "Guessed letters:  a b e g m n p\n"
     ]
    },
    {
     "name": "stdin",
     "output_type": "stream",
     "text": [
      "Guess a letter:  o\n"
     ]
    },
    {
     "name": "stdout",
     "output_type": "stream",
     "text": [
      "Correct!\n",
      "\n",
      "     _______\n",
      "    |       |\n",
      "    |       O\n",
      "    |      /| \n",
      "    |         \n",
      "    |      \n",
      "    |\n",
      "    \n",
      "\n",
      "Congratulations! You guessed the word: mango\n"
     ]
    }
   ],
   "source": [
    "import random\n",
    "\n",
    "# Word list\n",
    "word_list = [   \"apple\", \"banana\", \"orange\", \"grape\", \"mango\", \"pineapple\", \"peach\",\n",
    "    \"cherry\", \"strawberry\", \"blueberry\", \"kiwi\", \"papaya\", \"watermelon\",\n",
    "    \"melon\", \"pear\", \"plum\", \"pomegranate\", \"guava\", \"apricot\", \"fig\"]\n",
    "word = random.choice(word_list).lower()\n",
    "\n",
    "# Body parts by mistake index\n",
    "body_parts = ['O', '|', '/', '\\\\', '/', '\\\\']\n",
    "\n",
    "# Hangman scaffold with placeholders\n",
    "def draw_hangman(mistakes):\n",
    "    head = body_parts[0] if mistakes > 0 else ' '\n",
    "    body = body_parts[1] if mistakes > 1 else ' '\n",
    "    left_arm = body_parts[2] if mistakes > 2 else ' '\n",
    "    right_arm = body_parts[3] if mistakes > 3 else ' '\n",
    "    left_leg = body_parts[4] if mistakes > 4 else ' '\n",
    "    right_leg = body_parts[5] if mistakes > 5 else ' '\n",
    "\n",
    "    print(f\"\"\"\n",
    "     _______\n",
    "    |       |\n",
    "    |       {head}\n",
    "    |      {left_arm}{body}{right_arm}\n",
    "    |      {left_leg} {right_leg}\n",
    "    |      \n",
    "    |\n",
    "    \"\"\")\n",
    "\n",
    "# Game state\n",
    "word_letters = set(word)\n",
    "guessed_letters = set()\n",
    "mistakes = 0\n",
    "max_mistakes = len(body_parts)\n",
    "\n",
    "print(\"Welcome to Hangman!\")\n",
    "\n",
    "while len(word_letters) > 0 and mistakes < max_mistakes:\n",
    "    draw_hangman(mistakes)\n",
    "\n",
    "    word_display = [letter if letter in guessed_letters else '_' for letter in word]\n",
    "    print(\"Word: \", ' '.join(word_display))\n",
    "    print(f\"Mistakes: {mistakes}/{max_mistakes}\")\n",
    "    print(\"Guessed letters: \", ' '.join(sorted(guessed_letters)))\n",
    "\n",
    "    guess = input(\"Guess a letter: \").lower()\n",
    "\n",
    "    if guess.isalpha() and len(guess) == 1:\n",
    "        if guess in guessed_letters:\n",
    "            print(\"You already guessed that letter.\")\n",
    "        elif guess in word_letters:\n",
    "            guessed_letters.add(guess)\n",
    "            word_letters.remove(guess)\n",
    "            print(\"Correct!\")\n",
    "        else:\n",
    "            guessed_letters.add(guess)\n",
    "            mistakes += 1\n",
    "            print(\"Wrong guess.\")\n",
    "    else:\n",
    "        print(\"Please enter a single alphabetical character.\")\n",
    "\n",
    "\n",
    "draw_hangman(mistakes)\n",
    "if mistakes == max_mistakes:\n",
    "    print(f\"\\nGame Over! The word was: {word}\")\n",
    "else:\n",
    "    print(f\"\\nCongratulations! You guessed the word: {word}\")\n"
   ]
  },
  {
   "cell_type": "code",
   "execution_count": null,
   "id": "34e6b790-9eff-4f04-85c0-a9f4509ecf29",
   "metadata": {},
   "outputs": [],
   "source": []
  }
 ],
 "metadata": {
  "kernelspec": {
   "display_name": "Python 3 (ipykernel)",
   "language": "python",
   "name": "python3"
  },
  "language_info": {
   "codemirror_mode": {
    "name": "ipython",
    "version": 3
   },
   "file_extension": ".py",
   "mimetype": "text/x-python",
   "name": "python",
   "nbconvert_exporter": "python",
   "pygments_lexer": "ipython3",
   "version": "3.12.7"
  }
 },
 "nbformat": 4,
 "nbformat_minor": 5
}
